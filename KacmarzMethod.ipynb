{
 "cells": [
  {
   "cell_type": "code",
   "execution_count": 119,
   "metadata": {},
   "outputs": [
    {
     "name": "stdout",
     "output_type": "stream",
     "text": [
      "Number of iterations:2458\n"
     ]
    },
    {
     "data": {
      "image/png": "[encoded data removed]",
      "text/plain": [
       "<Figure size 432x288 with 1 Axes>"
      ]
     },
     "metadata": {},
     "output_type": "display_data"
    },
    {
     "name": "stdout",
     "output_type": "stream",
     "text": [
      "Number of iterations:49\n"
     ]
    },
    {
     "data": {
      "image/png": "[encoded data removed]",
      "text/plain": [
       "<Figure size 432x288 with 1 Axes>"
      ]
     },
     "metadata": {},
     "output_type": "display_data"
    },
    {
     "name": "stdout",
     "output_type": "stream",
     "text": [
      "[-0.1217194   0.22892941 -0.41863433 -0.14459428  0.14337751  0.21974525\n",
      "  0.31946855  0.12247492  0.4768595   0.53809959  0.52057899  0.30633209\n",
      " -0.23898603  0.0554015   0.24559319  0.56890264  0.4128256   0.464025\n",
      " -0.28776778 -0.7900174  -0.00534481 -0.76597332 -0.32647666]\n",
      "[ 0.22434877  0.42379416 -0.09858315 -0.03830083  0.06617338 -0.33631813\n",
      "  0.43006205 -0.09336494  0.09203639  0.50430696 -0.10221588 -0.11092791\n",
      "  0.0227538   0.01556881 -0.03898696 -0.34631508  0.34969822  0.15469932\n",
      "  0.02436625 -0.24888851  0.18398406 -0.45363777  0.53122097]\n",
      "[ 0.4146487   1.02043256 -0.77313157 -1.01861515  0.46715889  1.05647941\n",
      " -0.09445866 -0.3132656   0.18182209  0.02105785  0.41218239  0.299662\n",
      " -1.23776217 -0.67456395  0.45754479  1.66277319 -0.01322231 -0.43940947\n",
      " -0.98711768  0.06529163  0.84381121 -0.11393557  0.0843608 ]\n"
     ]
    }
   ],
   "source": [
    "import numpy as np\n",
    "from random import choice\n",
    "import random\n",
    "import matplotlib.pyplot as plt\n",
    "episilon = 0.000001\n",
    "def GetSolution(A, b, num_iterations, x_init):\n",
    "    N = A.shape[0]\n",
    "    x = x_init\n",
    "    count = 0\n",
    "    error_list = []\n",
    "    prev_x = x\n",
    "    for k in range(1, num_iterations):\n",
    "        i = (k%N)\n",
    "        numerator = b[i] - np.dot(A[i],x)\n",
    "        x_prev = x\n",
    "        denominator = np.linalg.norm(A[i])**2\n",
    "        result = numerator/denominator\n",
    "        prev_x = x\n",
    "        x = x + result*A[i]\n",
    "        error_list.append((((b - A.dot(x))**2).sum()))\n",
    "        if(StoppingCriteriaValue(x, prev_x) < episilon):\n",
    "            print(\"Number of iterations:\"+str(len(error_list)))\n",
    "            x = prev_x\n",
    "            break\n",
    "    plt.scatter(range(len(error_list)), error_list)\n",
    "    plt.show()\n",
    "    return x\n",
    "def StoppingCriteriaValue(x, x_prev):\n",
    "    return np.linalg.norm(x-x_prev)/max(1, np.linalg.norm(x_prev))\n",
    "## Complexity of above method is O(num_iterations*N)\n",
    "## Stopping criteria is when successive values of x does not change much i.e, (x(k+1)-x(k))/(x(k)) < episilon \n",
    "def GetSolutionUsingRandomness(A, b, num_iterations,x_init):\n",
    "    N = A.shape[0]\n",
    "    x = x_init\n",
    "    count = 0\n",
    "    error_list = []\n",
    "    weights = np.sum(np.abs(A)**2,axis=-1)\n",
    "    probs = list(np.array(weights)/np.sum(weights))\n",
    "    prev_x = x\n",
    "    for k in range(1, num_iterations):\n",
    "        i = np.random.choice(np.arange(N),1, p= probs)[0]\n",
    "        numerator = b[i] - np.dot(A[i],x)\n",
    "        denominator = np.linalg.norm(A[i])**2\n",
    "        result = numerator/denominator\n",
    "        prev_x = x\n",
    "        x = x + result*A[i]\n",
    "        error_list.append((((b - A.dot(x))**2).sum()))\n",
    "        if(StoppingCriteriaValue(x, prev_x) < episilon):\n",
    "            print(\"Number of iterations:\"+str(len(error_list)))\n",
    "            x = prev_x\n",
    "            break\n",
    "    plt.scatter(range(len(error_list)), error_list)\n",
    "    plt.show()\n",
    "    return x\n",
    "if __name__==\"__main__\":\n",
    "    N = random.randint(10,100)\n",
    "    A= np.random.rand(N,N)\n",
    "    b = np.random.rand(N)\n",
    "    x_init = np.random.rand(N)\n",
    "    num_iterations = 10000\n",
    "    x1 = GetSolution(A,b,num_iterations,x_init)\n",
    "    x2 = GetSolutionUsingRandomness(A,b,num_iterations,x_init)\n",
    "    x3 = np.dot(np.linalg.inv(A),b)\n",
    "    print(x1)\n",
    "    print(x2)\n",
    "    print(x3)\n",
    "        "
   ]
  },
  {
   "cell_type": "code",
   "execution_count": 120,
   "metadata": {},
   "outputs": [
    {
     "data": {
      "text/plain": [
       "0.8414634146341463"
      ]
     },
     "execution_count": 120,
     "metadata": {},
     "output_type": "execute_result"
    }
   ],
   "source": [
    "0.69/0.82"
   ]
  },
  {
   "cell_type": "code",
   "execution_count": 27,
   "metadata": {},
   "outputs": [
    {
     "name": "stdout",
     "output_type": "stream",
     "text": [
      "[[1. 1. 1.]\n",
      " [1. 1. 1.]\n",
      " [1. 1. 1.]]\n",
      "[3.0, 3.0, 3.0]\n",
      "[1. 1. 1.]\n",
      "1.7320508075688772\n",
      "-4.9\n"
     ]
    }
   ],
   "source": [
    "exp = np.ones((3,3))\n",
    "row = np.array([1,2,-7.9])\n",
    "print(exp)\n",
    "print(list(np.sum(np.abs(exp)**2,axis=-1)))\n",
    "print(exp[0])\n",
    "print(np.linalg.norm(exp[0]))\n",
    "print(np.dot(exp[0],row))"
   ]
  },
  {
   "cell_type": "code",
   "execution_count": 93,
   "metadata": {},
   "outputs": [
    {
     "name": "stdout",
     "output_type": "stream",
     "text": [
      "[4]\n",
      "4\n"
     ]
    }
   ],
   "source": [
    "l = [1,2,3,4,5]\n",
    "print(l[-2:-1])\n",
    "print(max(3,4))"
   ]
  },
  {
   "cell_type": "code",
   "execution_count": null,
   "metadata": {
    "collapsed": true
   },
   "outputs": [],
   "source": []
  }
 ],
 "metadata": {
  "kernelspec": {
   "display_name": "Python 3",
   "language": "python",
   "name": "python3"
  },
  "language_info": {
   "codemirror_mode": {
    "name": "ipython",
    "version": 3
   },
   "file_extension": ".py",
   "mimetype": "text/x-python",
   "name": "python",
   "nbconvert_exporter": "python",
   "pygments_lexer": "ipython3",
   "version": "3.7.6"
  }
 },
 "nbformat": 4,
 "nbformat_minor": 2
}
